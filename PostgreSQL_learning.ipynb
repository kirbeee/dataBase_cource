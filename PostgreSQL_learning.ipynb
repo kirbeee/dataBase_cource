{
 "cells": [
  {
   "cell_type": "code",
   "id": "initial_id",
   "metadata": {
    "collapsed": true,
    "ExecuteTime": {
     "end_time": "2024-07-20T06:12:20.623663Z",
     "start_time": "2024-07-20T06:12:20.595007Z"
    }
   },
   "source": "import psycopg2 as pg2",
   "outputs": [],
   "execution_count": 2
  },
  {
   "metadata": {
    "ExecuteTime": {
     "end_time": "2024-07-20T06:15:28.924242Z",
     "start_time": "2024-07-20T06:15:28.899988Z"
    }
   },
   "cell_type": "code",
   "source": "conn = pg2.connect(database='dvdrental', user='postgres')",
   "id": "198eedc1ae8f1df",
   "outputs": [],
   "execution_count": 3
  },
  {
   "metadata": {
    "ExecuteTime": {
     "end_time": "2024-07-20T06:16:04.266297Z",
     "start_time": "2024-07-20T06:16:04.263447Z"
    }
   },
   "cell_type": "code",
   "source": "cur = conn.cursor()",
   "id": "c08234bb8f92d8e8",
   "outputs": [],
   "execution_count": 4
  },
  {
   "metadata": {
    "ExecuteTime": {
     "end_time": "2024-07-20T06:16:08.956082Z",
     "start_time": "2024-07-20T06:16:08.911607Z"
    }
   },
   "cell_type": "code",
   "source": "cur.execute('SELECT * FROM payment')",
   "id": "612542b2b44d248",
   "outputs": [],
   "execution_count": 5
  },
  {
   "metadata": {
    "ExecuteTime": {
     "end_time": "2024-07-20T06:16:12.731333Z",
     "start_time": "2024-07-20T06:16:12.725814Z"
    }
   },
   "cell_type": "code",
   "source": "cur.fetchone()",
   "id": "db6385ea4f9d4efd",
   "outputs": [
    {
     "data": {
      "text/plain": [
       "(17503,\n",
       " 341,\n",
       " 2,\n",
       " 1520,\n",
       " Decimal('7.99'),\n",
       " datetime.datetime(2007, 2, 15, 22, 25, 46, 996577))"
      ]
     },
     "execution_count": 6,
     "metadata": {},
     "output_type": "execute_result"
    }
   ],
   "execution_count": 6
  },
  {
   "metadata": {
    "ExecuteTime": {
     "end_time": "2024-07-20T06:18:35.716109Z",
     "start_time": "2024-07-20T06:18:35.708819Z"
    }
   },
   "cell_type": "code",
   "source": "cur.fetchmany(5)",
   "id": "ce0f9ffad07d0c48",
   "outputs": [
    {
     "data": {
      "text/plain": [
       "[(17504,\n",
       "  341,\n",
       "  1,\n",
       "  1778,\n",
       "  Decimal('1.99'),\n",
       "  datetime.datetime(2007, 2, 16, 17, 23, 14, 996577)),\n",
       " (17505,\n",
       "  341,\n",
       "  1,\n",
       "  1849,\n",
       "  Decimal('7.99'),\n",
       "  datetime.datetime(2007, 2, 16, 22, 41, 45, 996577)),\n",
       " (17506,\n",
       "  341,\n",
       "  2,\n",
       "  2829,\n",
       "  Decimal('2.99'),\n",
       "  datetime.datetime(2007, 2, 19, 19, 39, 56, 996577)),\n",
       " (17507,\n",
       "  341,\n",
       "  2,\n",
       "  3130,\n",
       "  Decimal('7.99'),\n",
       "  datetime.datetime(2007, 2, 20, 17, 31, 48, 996577)),\n",
       " (17508,\n",
       "  341,\n",
       "  1,\n",
       "  3382,\n",
       "  Decimal('5.99'),\n",
       "  datetime.datetime(2007, 2, 21, 12, 33, 49, 996577))]"
      ]
     },
     "execution_count": 7,
     "metadata": {},
     "output_type": "execute_result"
    }
   ],
   "execution_count": 7
  },
  {
   "metadata": {
    "ExecuteTime": {
     "end_time": "2024-07-20T06:19:44.246835Z",
     "start_time": "2024-07-20T06:19:44.240339Z"
    }
   },
   "cell_type": "code",
   "source": "conn.close()",
   "id": "5a886201f68c09a2",
   "outputs": [],
   "execution_count": 8
  },
  {
   "metadata": {},
   "cell_type": "code",
   "outputs": [],
   "execution_count": null,
   "source": "",
   "id": "c23448835ca40451"
  }
 ],
 "metadata": {
  "kernelspec": {
   "display_name": "Python 3",
   "language": "python",
   "name": "python3"
  },
  "language_info": {
   "codemirror_mode": {
    "name": "ipython",
    "version": 2
   },
   "file_extension": ".py",
   "mimetype": "text/x-python",
   "name": "python",
   "nbconvert_exporter": "python",
   "pygments_lexer": "ipython2",
   "version": "2.7.6"
  }
 },
 "nbformat": 4,
 "nbformat_minor": 5
}
